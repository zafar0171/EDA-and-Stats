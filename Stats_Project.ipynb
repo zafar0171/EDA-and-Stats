{
 "cells": [
  {
   "cell_type": "markdown",
   "id": "b7b6d6ce",
   "metadata": {},
   "source": [
    "<table align=\"center\" width=100%>\n",
    "    <tr>\n",
    "        <td>\n",
    "            <div align=\"center\">\n",
    "                <font color=\"#21619\" size=6px>                   \n",
    "                    <b>  GREAT LEARNING\n",
    "                    </b>\n",
    "                </font>\n",
    "            </div>\n",
    "            <div align=\"center\">\n",
    "                <font color=\"#21619\" size=4.5px>                   \n",
    "                    <b>  (MINI PROJECT - Statistics)\n",
    "                    </b>\n",
    "                </font>           \n",
    "            </div>\n",
    "        </td>\n",
    "    </tr>\n",
    "</table>"
   ]
  },
  {
   "cell_type": "markdown",
   "id": "a014d4f9",
   "metadata": {},
   "source": [
    "<table align=\"center\" width=100%>\n",
    "    <tr>\n",
    "        <td>\n",
    "            <div align=\"left\">\n",
    "                <font color=\"#21619\" size=4.8px>                   \n",
    "                    <b>  Group Members \n",
    "                    </b>\n",
    "                </font>\n",
    "            </div>\n",
    "        </td>\n",
    "    </tr>\n",
    "</table>\n",
    "\n",
    "1. Venkatesh M\n",
    "2. Aris Venitia Fernandes\n",
    "3. Iniyanila G\n",
    "4. Roshankumar S\n",
    "5. Md Modassir\n",
    "6. Rohit Kumar\n",
    "7. Sreya Suresh\n",
    "\n",
    "<table align=\"center\" width=100%>\n",
    "    <tr>\n",
    "        <td>\n",
    "            <div align=\"left\">\n",
    "                <font color=\"#21619\" size=4.8px>                   \n",
    "                    <b>  Overview \n",
    "                    </b>\n",
    "                </font>\n",
    "            </div>\n",
    "        </td>\n",
    "    </tr>\n",
    "</table>\n",
    "\n",
    "This Statistics and EDA project is designed to train and test you on basic Data Exploratory and Statistical techniques used in the industry today. Apart from bringing you to speed with basicdescriptive and inferential methods, you will also deep dive into a dataset and perform thorough cleaning and analysis in order to draw useful business insights from the data. This will expose you to what data scientists do most often–Exploratory Data Analysis.\n",
    "\n",
    "<table align=\"center\" width=100%>\n",
    "    <tr>\n",
    "        <td>\n",
    "            <div align=\"left\">\n",
    "                <font color=\"#21619\" size=4.8px>                   \n",
    "                    <b>  Goals \n",
    "                    </b>\n",
    "                </font>\n",
    "            </div>\n",
    "        </td>\n",
    "    </tr>\n",
    "</table>\n",
    "\n",
    "1. Using the core statistical theoretical concepts and knowledge to solve real time problem statements.\n",
    "2. Visualize a real time industry scenario where one can use these statistical concepts.\n",
    "3. Detailed data analysis and number crunching using statistics.\n",
    "4. Exhaustive report building using EDA and visualization techniques to help the business take decisions using insights from the data.\n",
    "\n",
    "<table align=\"center\" width=100%>\n",
    "    <tr>\n",
    "        <td>\n",
    "            <div align=\"left\">\n",
    "                <font color=\"#21619\" size=4.8px>                   \n",
    "                    <b>  Specifications \n",
    "                    </b>\n",
    "                </font>\n",
    "            </div>\n",
    "        </td>\n",
    "    </tr>\n",
    "</table>\n",
    "\n",
    "Part -I is concept based and walks you through various concepts of descriptive statistics, probability\n",
    "distributions and inferential statistics including confidence intervals and hypothesis testing.\n",
    "\n",
    "Part -II on the other hand is dataset based and explore various data cleaning options, dataanalysis\n",
    "options and using EDA to derive deep and meaningful insights for the business"
   ]
  },
  {
   "cell_type": "markdown",
   "id": "e7a05f98",
   "metadata": {},
   "source": [
    "<table align=\"center\" width=100%>\n",
    "    <tr>\n",
    "        <td>\n",
    "            <div align=\"left\">\n",
    "                <font color=\"#21619\" size=4.8px>                   \n",
    "                    <b>  Import Libraries \n",
    "                    </b>\n",
    "                </font>\n",
    "            </div>\n",
    "        </td>\n",
    "    </tr>\n",
    "</table>"
   ]
  },
  {
   "cell_type": "code",
   "execution_count": 1,
   "id": "b6ee0e5a",
   "metadata": {},
   "outputs": [],
   "source": [
    "# Import numpy for numerical operations\n",
    "import numpy as np\n",
    "\n",
    "# Import pandas for operations on dataframe\n",
    "import pandas as pd\n",
    "\n",
    "# Import matplotlib for visualization\n",
    "import matplotlib.pyplot as plt\n",
    "\n",
    "# Import seaborn for visualization\n",
    "import seaborn as sns\n",
    "\n",
    "# Suppress warnings \n",
    "from warnings import filterwarnings\n",
    "filterwarnings('ignore')\n",
    "\n",
    "# Import 'factorial' from math library\n",
    "from math import factorial\n",
    "\n",
    "# Import 'stats' package from scipy library\n",
    "from scipy import stats\n",
    "\n",
    "# Import randint to retrive random integers\n",
    "from scipy.stats import randint\n",
    "\n",
    "# Import 'random' to generate a random sample\n",
    "import random\n",
    "\n",
    "# Import math module to perform mathematical functions\n",
    "import math"
   ]
  },
  {
   "cell_type": "markdown",
   "id": "39e95596",
   "metadata": {},
   "source": [
    "<table align=\"center\" width=100%>\n",
    "    <tr>\n",
    "        <td>\n",
    "            <div align=\"left\">\n",
    "                <font color=\"#21619\" size=4.8px>                   \n",
    "                    <b>  Questions \n",
    "                    </b>\n",
    "                </font>\n",
    "            </div>\n",
    "        </td>\n",
    "    </tr>\n",
    "</table>"
   ]
  },
  {
   "cell_type": "markdown",
   "id": "e763b046",
   "metadata": {},
   "source": [
    "**The following are the ages of CEOs of 42 Top Fortune 500 Companies when they took over the post of CEO, use this data for answering following questions where relevant.**\n",
    "\n",
    "[57, 61, 57, 57, 58, 57, 61, 54, 68, 51,\n",
    "\n",
    "49, 64, 50, 48, 65, 52, 56, 46, 54, 49,50,\n",
    "\n",
    "47, 55, 55, 54, 42, 51, 56, 55, 54, 51, 60, \n",
    "\n",
    "62, 43, 55, 56, 61, 52, 69, 64, 46, 54]"
   ]
  },
  {
   "cell_type": "code",
   "execution_count": 2,
   "id": "11ecc054",
   "metadata": {},
   "outputs": [],
   "source": [
    "data = [57, 61, 57, 57, 58, 57, 61, 54, 68, 51, 49, 64, 50, 48, 65, 52, 56, 46, 54, 49, 50, \n",
    "        47, 55, 55, 54, 42, 51, 56, 55, 54, 51, 60, 62, 43, 55, 56, 61, 52, 69, 64, 46, 54]"
   ]
  },
  {
   "cell_type": "markdown",
   "id": "5dad9aeb",
   "metadata": {},
   "source": [
    "**1. Compute the mean, median and the mode of the data**"
   ]
  },
  {
   "cell_type": "code",
   "execution_count": 3,
   "id": "3b1d90ea",
   "metadata": {
    "scrolled": true
   },
   "outputs": [
    {
     "name": "stdout",
     "output_type": "stream",
     "text": [
      "Mean of the data: 54.9048\n",
      "Median of the data: 55.0\n",
      "Mode of the data: 54\n"
     ]
    }
   ],
   "source": [
    "# Calculate mean , median and mode of the data using respective numpy functions\n",
    "mean = round(np.mean(data),4)\n",
    "median = round(np.median(data),4)\n",
    "mode = stats.mode(data)[0][0]\n",
    "\n",
    "# Display mean , median and model values of the data\n",
    "print('Mean of the data:', mean)\n",
    "print('Median of the data:', median)\n",
    "print('Mode of the data:', mode)"
   ]
  },
  {
   "cell_type": "markdown",
   "id": "8880c450",
   "metadata": {},
   "source": [
    "**2. Compute the range , variance and standard deviation of CEO ages**"
   ]
  },
  {
   "cell_type": "code",
   "execution_count": 4,
   "id": "df6994c4",
   "metadata": {
    "scrolled": true
   },
   "outputs": [
    {
     "name": "stdout",
     "output_type": "stream",
     "text": [
      "Range of the data: 27\n",
      "Variance of the data: 38.5147\n",
      "Standard Deviation of the data: 6.206\n"
     ]
    }
   ],
   "source": [
    "# Compute range , variance and standard deviation of data using respective numpy functions\n",
    "Range = np.max(data)-np.min(data)\n",
    "var = round(np.var(data),4)\n",
    "std = round(np.std(data),4)\n",
    "\n",
    "# Display range , variance and standard deviation of the data\n",
    "print(\"Range of the data:\", Range)\n",
    "print('Variance of the data:', var)\n",
    "print('Standard Deviation of the data:', std)"
   ]
  },
  {
   "cell_type": "markdown",
   "id": "cf0b493b",
   "metadata": {},
   "source": [
    "**3. Find the mean deviation for the data . The mean deviation is defined as below.**\n",
    "<table align=\"left\">\n",
    "        <td width=\"30%\">\n",
    "            <img src=\"2.png\">\n",
    "        </td>\n",
    "        <td> \n",
    "</table>"
   ]
  },
  {
   "cell_type": "code",
   "execution_count": 5,
   "id": "94cd12ba",
   "metadata": {
    "scrolled": false
   },
   "outputs": [
    {
     "name": "stdout",
     "output_type": "stream",
     "text": [
      "Mean Deviation of the data: -3.809523809684108e-05\n"
     ]
    }
   ],
   "source": [
    "# Find length of the data\n",
    "n = len(data)\n",
    "\n",
    "# Compute mean deviation using the formula\n",
    "MD = ((data - mean).sum())/n\n",
    "\n",
    "# Display the mean deviation of the data\n",
    "print('Mean Deviation of the data:', MD)"
   ]
  },
  {
   "cell_type": "markdown",
   "id": "1ba0fc35",
   "metadata": {},
   "source": [
    "**4. Calculate the Pearson coefficient of skewness and comment on the skewness of the data**\n",
    "\n",
    "[Ameasure to determine the skewness of a distribution is called the Pearson coefficient of skewness. The formula is \n",
    "<table align=\"left\">\n",
    "    <tr>\n",
    "        <td width=\"40%\">\n",
    "            <img src=\"1.png\">\n",
    "        </td>\n",
    "        <td> \n",
    "</table>\n",
    "The value of the coefficient if skewness usually ranges from –3 to 3. When the distribution is symmetric, the coefficient is zero; when the distribution is positively skewed , the coefficient is positive, and when the distribution is negatively skewed the coefficient is negative.]\n"
   ]
  },
  {
   "cell_type": "code",
   "execution_count": 6,
   "id": "e7d74a20",
   "metadata": {},
   "outputs": [
    {
     "name": "stdout",
     "output_type": "stream",
     "text": [
      "Pearson Coefficient of Skewness of the data: -0.04602\n"
     ]
    }
   ],
   "source": [
    "# Complute skewness of the data using the given formula\n",
    "skew = 3*(mean - median)/std\n",
    "\n",
    "# Display the skewness \n",
    "print('Pearson Coefficient of Skewness of the data:', round(skew, 5))"
   ]
  },
  {
   "cell_type": "markdown",
   "id": "ffe22618",
   "metadata": {},
   "source": [
    "* The distribution is negatively skewed, the coefficient is negative"
   ]
  },
  {
   "cell_type": "markdown",
   "id": "0825e419",
   "metadata": {},
   "source": [
    "**5. Count the number of data values that fall within two standard deviations of the mean. Compare this with the answer from Chebyshev’s Theorem.**"
   ]
  },
  {
   "cell_type": "code",
   "execution_count": 7,
   "id": "8dae7ad9",
   "metadata": {},
   "outputs": [
    {
     "name": "stdout",
     "output_type": "stream",
     "text": [
      "The number of data values that fall within two standard deviations of the mean are 39\n"
     ]
    }
   ],
   "source": [
    "# Find upper and lower limits of the data\n",
    "lower_limit = mean - (2*std)\n",
    "upper_limit = mean + (2*std)\n",
    "\n",
    "# List to store values which falls within 2 standard deviation\n",
    "values = []\n",
    "\n",
    "# Iterate over the dataset and check if the value falls within the upper and lower limits\n",
    "for i in data:\n",
    "    if lower_limit <= i <= upper_limit:\n",
    "        values.append(i)\n",
    "    else:\n",
    "        continue\n",
    "        \n",
    "# Display the values within the limit\n",
    "print('The number of data values that fall within two standard deviations of the mean are', len(values))"
   ]
  },
  {
   "cell_type": "code",
   "execution_count": 8,
   "id": "3f49f511",
   "metadata": {},
   "outputs": [
    {
     "name": "stdout",
     "output_type": "stream",
     "text": [
      "The number of data values that fall within two standard deviations according to Chebyshev's theorem 31\n"
     ]
    }
   ],
   "source": [
    "# Chebyshev's Theorem\n",
    "\n",
    "# Define K value\n",
    "k=2\n",
    "\n",
    "# Find percentage of values which lies within 2 standard deviation\n",
    "percentage_of_values = (1-(1/(k**2)))\n",
    "\n",
    "# Calculate absolute value from percentage \n",
    "number_of_values = int(percentage_of_values*len(data))\n",
    "\n",
    "# Display the absolute number of values\n",
    "print(\"The number of data values that fall within two standard deviations according to Chebyshev's theorem\", number_of_values)"
   ]
  },
  {
   "cell_type": "markdown",
   "id": "8a74a7da",
   "metadata": {},
   "source": [
    "**6. Find the three quartiles and the interquartile range (IQR).**"
   ]
  },
  {
   "cell_type": "code",
   "execution_count": 9,
   "id": "6e34f130",
   "metadata": {},
   "outputs": [
    {
     "name": "stdout",
     "output_type": "stream",
     "text": [
      "First Quantile of the data: 51.0\n",
      "Second Quantile of the data: 55.0\n",
      "Third Quantile of the data: 57.75\n",
      "Interquartile Range of the data (IQR): 6.75\n"
     ]
    }
   ],
   "source": [
    "# 1st quartile\n",
    "Q1 = np.quantile(a = data, q = 0.25)\n",
    "\n",
    "# 2nd quartile\n",
    "Q2 = np.quantile(a = data, q = 0.5)\n",
    "\n",
    "# 3rd quartile\n",
    "Q3 = np.quantile(a = data, q = 0.75)\n",
    "\n",
    "# Calculate IQR\n",
    "IQR = Q3 - Q1\n",
    "\n",
    "# Display the quartiles and IQR\n",
    "print('First Quantile of the data:', Q1)\n",
    "print('Second Quantile of the data:', Q2)\n",
    "print('Third Quantile of the data:', Q3)\n",
    "print('Interquartile Range of the data (IQR):', IQR)"
   ]
  },
  {
   "cell_type": "markdown",
   "id": "f4fa460a",
   "metadata": {},
   "source": [
    "**7. Are there any outliers in the data set?**"
   ]
  },
  {
   "cell_type": "code",
   "execution_count": 10,
   "id": "c4411a4f",
   "metadata": {
    "scrolled": true
   },
   "outputs": [
    {
     "data": {
      "image/png": "[encoded data removed]",
      "text/plain": [
       "<Figure size 432x288 with 1 Axes>"
      ]
     },
     "metadata": {
      "needs_background": "light"
     },
     "output_type": "display_data"
    }
   ],
   "source": [
    "# Plot a kdeplot for the data\n",
    "sns.kdeplot(x= data, shade = 'b')\n",
    "\n",
    "# Display mean line\n",
    "plt.axvline(mean, color ='g')\n",
    "\n",
    "# Display lower limit and upper limit to check if there are any values outside the limits\n",
    "plt.axvline(lower_limit, color ='r', linestyle = '--')\n",
    "plt.axvline(upper_limit, color ='r', linestyle = '--')\n",
    "\n",
    "# Display the plot\n",
    "plt.show()"
   ]
  },
  {
   "cell_type": "markdown",
   "id": "2866cfd1",
   "metadata": {},
   "source": [
    "* Since the distribution extends outside of the upper and lower limits, we can conclude that there are outliers present in the dataset."
   ]
  },
  {
   "cell_type": "code",
   "execution_count": 11,
   "id": "7256984b",
   "metadata": {},
   "outputs": [
    {
     "data": {
      "text/plain": [
       "array([68, 69])"
      ]
     },
     "execution_count": 11,
     "metadata": {},
     "output_type": "execute_result"
    }
   ],
   "source": [
    "# Retrieve outliers by using formula for upper and lower whiskers\n",
    "np.array(data)[(np.array(data)<(Q1-(1.5*IQR))) | (np.array(data)>(Q3+(1.5*IQR)))]"
   ]
  },
  {
   "cell_type": "markdown",
   "id": "70df72fc",
   "metadata": {},
   "source": [
    "**8. Draw a boxplot of the dataset to confirm.**"
   ]
  },
  {
   "cell_type": "code",
   "execution_count": 12,
   "id": "195949f8",
   "metadata": {},
   "outputs": [
    {
     "data": {
      "image/png": "[encoded data removed]",
      "text/plain": [
       "<Figure size 432x288 with 1 Axes>"
      ]
     },
     "metadata": {
      "needs_background": "light"
     },
     "output_type": "display_data"
    }
   ],
   "source": [
    "# Box plot for data\n",
    "sns.boxplot(data)\n",
    "plt.title('Checking for outliers')\n",
    "plt.show()"
   ]
  },
  {
   "cell_type": "markdown",
   "id": "2ee376c9",
   "metadata": {},
   "source": [
    "* The two outliers present in the dataset (68,69) can be clearly seen in the box plot"
   ]
  },
  {
   "cell_type": "markdown",
   "id": "b7cf1009",
   "metadata": {},
   "source": [
    "**9. Find the percentile rank of the datapoint 50.**"
   ]
  },
  {
   "cell_type": "code",
   "execution_count": 13,
   "id": "8cb2269c",
   "metadata": {},
   "outputs": [
    {
     "name": "stdout",
     "output_type": "stream",
     "text": [
      "Percentile rank of the datapoint 50 :  23.81\n"
     ]
    }
   ],
   "source": [
    "# List to store values which are less than 50 in the data\n",
    "below_50=[]\n",
    "\n",
    "# Iterate over the data and retrieve only the values which are below than 50\n",
    "for i in data:\n",
    "    if i<=50:\n",
    "        below_50.append(i)\n",
    "        \n",
    "# Calculate the percentile by finding the percentage of values in the data which lies below 50        \n",
    "percentile_50 = round(len(below_50)/len(data)*100,2)\n",
    "    \n",
    "# Display the\n",
    "print(\"Percentile rank of the datapoint 50 : \" , percentile_50)"
   ]
  },
  {
   "cell_type": "markdown",
   "id": "70c81cc2",
   "metadata": {},
   "source": [
    "* 23.81% of the values in the data lies below 50."
   ]
  },
  {
   "cell_type": "markdown",
   "id": "a118afdb",
   "metadata": {},
   "source": [
    "**10. What is the probability that a person becoming a CEO is below 50 years of age?**"
   ]
  },
  {
   "cell_type": "code",
   "execution_count": 14,
   "id": "018ca1dd",
   "metadata": {},
   "outputs": [
    {
     "name": "stdout",
     "output_type": "stream",
     "text": [
      "Probability that a person becoming a CEO is below 50 years of age is: 0.1905 or 19.05 %\n"
     ]
    }
   ],
   "source": [
    "# Calculate the probability (p) of a person becoming a CEO above 50 years\n",
    "b_50 = sum(1 for age in data if age < 50)\n",
    "prob_b = b_50 / n\n",
    "\n",
    "print('Probability that a person becoming a CEO is below 50 years of age is:', round(prob_b,4), \"or\",round(prob_b,4)*100,\"%\")"
   ]
  },
  {
   "cell_type": "markdown",
   "id": "d884e854",
   "metadata": {},
   "source": [
    "**11. Create a frequency distribution for the data and visualize it appropriately.**"
   ]
  },
  {
   "cell_type": "code",
   "execution_count": 15,
   "id": "94c129aa",
   "metadata": {},
   "outputs": [
    {
     "data": {
      "image/png": "[encoded data removed]",
      "text/plain": [
       "<Figure size 432x288 with 1 Axes>"
      ]
     },
     "metadata": {
      "needs_background": "light"
     },
     "output_type": "display_data"
    }
   ],
   "source": [
    "# Create a frequency distribution\n",
    "\n",
    "# Number of bins\n",
    "bins = 10 \n",
    "plt.hist(data, bins=bins, edgecolor='black')\n",
    "\n",
    "# Add labels and title\n",
    "plt.xlabel('Age')\n",
    "plt.ylabel('Frequency')\n",
    "plt.title('Frequency Distribution of CEO Ages')\n",
    "\n",
    "# Show the histogram\n",
    "plt.show()"
   ]
  },
  {
   "cell_type": "markdown",
   "id": "5eab707f",
   "metadata": {},
   "source": [
    "**12. Create a probability distribution of the data and visualize it appropriately.**"
   ]
  },
  {
   "cell_type": "code",
   "execution_count": 16,
   "id": "73d1b8e6",
   "metadata": {},
   "outputs": [
    {
     "data": {
      "image/png": "[encoded data removed]",
      "text/plain": [
       "<Figure size 432x288 with 1 Axes>"
      ]
     },
     "metadata": {
      "needs_background": "light"
     },
     "output_type": "display_data"
    }
   ],
   "source": [
    "# Calculate probability mass function for all values in the data\n",
    "probabilities = pd.Series(data).value_counts()/n\n",
    "\n",
    "# Bar plot for each value in the data and its respective probability\n",
    "sns.barplot(x=probabilities.index,y=probabilities.values)\n",
    "\n",
    "# Display the plot\n",
    "plt.show()"
   ]
  },
  {
   "cell_type": "markdown",
   "id": "cd653d9f",
   "metadata": {},
   "source": [
    "**13. What is the shape of the distribution of this dataset? Create an appropriate graph to determine that. Take 100 random samples with replacement from this dataset of size 5 each. Create a sampling distribution ofthe mean age of customers. Compare with other sampling distributions of sample size 10, 15, 20, 25, 30. State your observations. Does it corroborate the Central Limit Theorem?**"
   ]
  },
  {
   "cell_type": "code",
   "execution_count": 17,
   "id": "76f3845c",
   "metadata": {},
   "outputs": [
    {
     "data": {
      "image/png": "[encoded data removed]",
      "text/plain": [
       "<Figure size 432x288 with 1 Axes>"
      ]
     },
     "metadata": {
      "needs_background": "light"
     },
     "output_type": "display_data"
    },
    {
     "data": {
      "image/png": "[encoded data removed]",
      "text/plain": [
       "<Figure size 576x720 with 6 Axes>"
      ]
     },
     "metadata": {
      "needs_background": "light"
     },
     "output_type": "display_data"
    }
   ],
   "source": [
    "# Actual shape of the distribution\n",
    "plt.hist(data)\n",
    "plt.title(\"Population distribution\")\n",
    "plt.show()\n",
    "\n",
    "# Generating sampling distributions and comparing with different sample sizes\n",
    "samp_size = [5, 10, 15, 20, 25, 30]\n",
    "samp_dist = []\n",
    "\n",
    "for size in samp_size:\n",
    "    means = []\n",
    "    for i in range(100):\n",
    "        sample = np.random.choice(data, size=size, replace=True)\n",
    "        means.append(np.mean(sample))\n",
    "    samp_dist.append(means)\n",
    "\n",
    "# Plotting sampling distributions\n",
    "fig, axs = plt.subplots(len(samp_size), 1, figsize=(8, 10))\n",
    "\n",
    "for i, (size, distribution) in enumerate(zip(samp_size, samp_dist)):\n",
    "    axs[i].hist(distribution, bins='auto', alpha=0.7, rwidth=0.85)\n",
    "    axs[i].set_xlabel('Sample Means')\n",
    "    axs[i].set_ylabel('Frequency')\n",
    "    axs[i].set_title(f'Sampling Distribution (Sample Size = {size})')\n",
    "    axs[i].grid(True)\n",
    "\n",
    "plt.tight_layout()\n",
    "plt.show()"
   ]
  },
  {
   "cell_type": "markdown",
   "id": "dca807d8",
   "metadata": {},
   "source": [
    "**14. Treat this dataset as a binomial distribution where p is the probability that a person becomes a CEO above 50 years age. What is the probability that out of a random sample of 10 CEOs of Fortune 500 companies exactly 6are above 50 years of age?**"
   ]
  },
  {
   "cell_type": "code",
   "execution_count": 18,
   "id": "f5469180",
   "metadata": {},
   "outputs": [
    {
     "name": "stdout",
     "output_type": "stream",
     "text": [
      "The probability that exactly 6 are above 50 years of age: 0.132 or 13.2016 %\n"
     ]
    }
   ],
   "source": [
    "# Calculate the probability (p) of a person becoming a CEO above 50 years\n",
    "a_50 = sum(1 for age in data if age > 50)\n",
    "prob_a = a_50 / n\n",
    "\n",
    "sample_size = 10       # Number of CEOs in the sample\n",
    "k = 6                  # Number of CEOs above 50 in the sample (exactly 6)\n",
    "\n",
    "#Probability of exactly 6 CEOs above 50 years of age in the random sample\n",
    "probability = stats.binom.pmf(k, sample_size, prob_a)   \n",
    "\n",
    "# Display the probability\n",
    "print('The probability that exactly 6 are above 50 years of age:', round(probability, 4),\"or\",round(probability*100, 4),\"%\")"
   ]
  },
  {
   "cell_type": "markdown",
   "id": "de1af370",
   "metadata": {},
   "source": [
    "**15. A study claims that 25% of all Fortune 500 companies becoming a CEO are above 60 years of age. Using the Normal approximation of a Binomial distribution, find the probability that in a random sample of 300 Fortune companies exactly 75 CEOs will be above 50 years of age.**\n",
    "\n",
    "[Note that the normal distribution can be used to approximate a binomial\n",
    "distribution if np>=5 and nq>=5 with the following correction for continuity\n",
    "P(X=z) = P(z-0.5 < X < z+0.5 )]"
   ]
  },
  {
   "cell_type": "code",
   "execution_count": 19,
   "id": "dfafb454",
   "metadata": {},
   "outputs": [
    {
     "name": "stdout",
     "output_type": "stream",
     "text": [
      "Probability: 0.0532\n"
     ]
    }
   ],
   "source": [
    "# Define n (size) , p (probability) , k(random variable)\n",
    "n = 300\n",
    "p = 0.25\n",
    "k = 75\n",
    "\n",
    "# Find mean and standard deviation\n",
    "mean = n * p\n",
    "std_dev = (n * p * (1 - p)) ** 0.5\n",
    "\n",
    "# Calculate probability using cdf (cumulative distribution function)\n",
    "prob = stats.norm.cdf(k + 0.5, mean, std_dev) - stats.norm.cdf(k - 0.5, mean, std_dev)\n",
    "\n",
    "# Display the probability\n",
    "print(\"Probability:\", round(prob,4))"
   ]
  },
  {
   "cell_type": "markdown",
   "id": "b5e1604d",
   "metadata": {},
   "source": [
    "**16. Compute a 95% Confidence Interval for the true mean age of the population of CEOs for the given dataset using appropriate distribution.**\n",
    "\n",
    "(State reasons as to why did you use a z or t distribution)"
   ]
  },
  {
   "cell_type": "markdown",
   "id": "3085d216",
   "metadata": {},
   "source": [
    "#### Normality test"
   ]
  },
  {
   "cell_type": "code",
   "execution_count": 20,
   "id": "81174fb4",
   "metadata": {
    "scrolled": true
   },
   "outputs": [
    {
     "name": "stdout",
     "output_type": "stream",
     "text": [
      "The data appears to be normally distributed.\n"
     ]
    }
   ],
   "source": [
    "# Define significance level\n",
    "alpha = 0.05\n",
    "\n",
    "# Find statistic and p-value for shapiro wilk test\n",
    "statistic, p_value = stats.shapiro(data)\n",
    "\n",
    "# Check the condition to reject or fail to reject null hypothesis\n",
    "if p_value > alpha:\n",
    "    print(\"The data appears to be normally distributed.\")\n",
    "else:\n",
    "    print(\"The data does not appear to be normally distributed.\")"
   ]
  },
  {
   "cell_type": "markdown",
   "id": "ae1481f7",
   "metadata": {},
   "source": [
    "* Based on the results of the Shapiro-Wilk test, since the data appears to be normally distributed, we can use the z-test since the sample size is not large (41) but reasonably close to 30. If the data does not appear to be normally distributed, we will use the Z-test."
   ]
  },
  {
   "cell_type": "code",
   "execution_count": 21,
   "id": "3210187e",
   "metadata": {
    "scrolled": true
   },
   "outputs": [
    {
     "name": "stdout",
     "output_type": "stream",
     "text": [
      "95% Confidence Interval: (53.005129175572755, 56.804394633951055)\n"
     ]
    }
   ],
   "source": [
    "# Define a function to find confidence interval\n",
    "def confidence_interval(data, confidence=0.95):\n",
    "    \n",
    "    n = len(data) # Sample size\n",
    "    mean = np.mean(data) # Sample mean\n",
    "    std_dev = np.std(data, ddof=1) # Sample standard deviation\n",
    "    Z_critical = stats.norm.ppf(1-(1 - confidence) / 2) # Critical value\n",
    "    margin_of_error = Z_critical * (std_dev / np.sqrt(n)) # Margin of error\n",
    "    lower_bound = mean - margin_of_error # Lower limit of CI\n",
    "    upper_bound = mean + margin_of_error # Upper limit of CI\n",
    "    \n",
    "    # Return the lower limit and upper limit of confidence interval\n",
    "    return lower_bound, upper_bound \n",
    "\n",
    "confidence_level = 0.95 # Confidence level\n",
    "\n",
    "# Find confidence interval by calling the user defined function\n",
    "lower, upper = confidence_interval(data, confidence_level)\n",
    "\n",
    "# Display the confidence interval\n",
    "print(\"95% Confidence Interval:\", (lower, upper))"
   ]
  },
  {
   "cell_type": "markdown",
   "id": "2c5fab21",
   "metadata": {},
   "source": [
    "**17. A data scientist wants to estimate with 95% confidence the proportion of CEOs of Fortune 500 companies are above 60 years in the population. Another recent study showed that 25% of CEOs interviewed were above 60. The data scientist wants to be accurate within 2% of the true proportion. Find the minimum sample size necessary.**"
   ]
  },
  {
   "cell_type": "code",
   "execution_count": 22,
   "id": "a9c95c03",
   "metadata": {},
   "outputs": [
    {
     "name": "stdout",
     "output_type": "stream",
     "text": [
      "Minimum Sample Size: 1801\n"
     ]
    }
   ],
   "source": [
    "# Define a function which returns sample size \n",
    "def sample_size(c_level, moe, prop): # Input parameters: Confidence level, Margin of error, Proportion\n",
    "    \n",
    "    # Calculate critical value using probability mass function\n",
    "    z = stats.norm.ppf(1 - (1 - c_level) / 2) \n",
    "    # Calculate sample size using the formula\n",
    "    sample_size = math.ceil((z**2 * prop * (1 - prop)) / moe**2)\n",
    "    \n",
    "    # return the sample size\n",
    "    return sample_size\n",
    "\n",
    "c_level = 0.95   # Confidence level\n",
    "moe = 0.02       # Margin of error\n",
    "prop = 0.25      # Estimated proportion\n",
    "\n",
    "# Find sample size by calling the user defined function and passing the required input parameters into it\n",
    "samp_size = sample_size(c_level, moe, prop)\n",
    "\n",
    "# Display the sample size\n",
    "print(\"Minimum Sample Size:\", samp_size)"
   ]
  },
  {
   "cell_type": "markdown",
   "id": "24bcdfc9",
   "metadata": {},
   "source": [
    "**18. The same data scientist wants to estimate the true proportion of CEOs ascending to the post and above 60 years. She wants to be 90% confident 4 and accurate within 5% of true proportion. Find the minimum sample size necessary.**"
   ]
  },
  {
   "cell_type": "code",
   "execution_count": 23,
   "id": "71422282",
   "metadata": {},
   "outputs": [
    {
     "name": "stdout",
     "output_type": "stream",
     "text": [
      "Minimum Sample Size: 183\n"
     ]
    }
   ],
   "source": [
    "c_level = 0.90 # Confidence level\n",
    "moe = 0.05 # Margin of error\n",
    "\n",
    "# Calculate proportion of CEOs who are above 60 years of age\n",
    "prop = len([i for i in data if i>60])/len(data)\n",
    "\n",
    "# Find sample size by calling the user defined function by passing the required parameters into it\n",
    "samp_size = sample_size(c_level, moe, prop)\n",
    "\n",
    "# Display the minimum sample size\n",
    "print(\"Minimum Sample Size:\", samp_size)"
   ]
  },
  {
   "cell_type": "markdown",
   "id": "aaf6f5ba",
   "metadata": {},
   "source": [
    "**19. A researcher claims that currently 25% of all CEOS are above 60 years. Test his claim with an alpha =0.05 if out of a random sample of 30 CEOs only 10 are above 60 years.**"
   ]
  },
  {
   "cell_type": "markdown",
   "id": "df96e483",
   "metadata": {},
   "source": [
    "* H0 : 10 CEOs are not above 60 years, hence, the claim is incorrect\n",
    "* H1 : 10 CEOs are above 60 years, hence, the claim is correct"
   ]
  },
  {
   "cell_type": "code",
   "execution_count": 24,
   "id": "9316fef9",
   "metadata": {},
   "outputs": [
    {
     "name": "stdout",
     "output_type": "stream",
     "text": [
      "Z-value: 1.0540925533894596\n",
      "P-value: 0.29184054514378865\n",
      "Fail to reject the null hypothesis. The claim is correct.\n"
     ]
    }
   ],
   "source": [
    "# Define a function to perform Z-test\n",
    "def z_test(sample_prop, null_prop, n): # Input parameters: Sample proportion, Null proportion, sample size\n",
    "    \n",
    "    # Calculate test statistic using the formula\n",
    "    z = (sample_prop - null_prop) / (null_prop * (1 - null_prop) / n) ** 0.5\n",
    "    # Calculate p-value from the test-statistic using cdf\n",
    "    p_value = 2 * (1 - stats.norm.cdf(abs(z)))\n",
    "    # Return z-statistic and p-value\n",
    "    return z, p_value\n",
    "\n",
    "sample_prop = 10 / 30 # Sample proportion\n",
    "null_prop = 0.25 # Null proportion\n",
    "n = 30 # Sample size\n",
    "alpha = 0.05 # Significance level\n",
    "\n",
    "# Find z-statistic and p-value by calling the user defined function and passing the input parameters into it\n",
    "z_value, p_value = z_test(sample_prop, null_prop, n)\n",
    "print(\"Z-value:\", z_value)\n",
    "print(\"P-value:\", p_value)\n",
    "\n",
    "# Check the condition to reject or fail to reject null hypothesis\n",
    "if p_value < alpha:\n",
    "    print(\"Reject the null hypothesis. The claim is incorrect.\")\n",
    "else:\n",
    "    print(\"Fail to reject the null hypothesis. The claim is correct.\")"
   ]
  },
  {
   "cell_type": "markdown",
   "id": "cbadfd9f",
   "metadata": {},
   "source": [
    "**20. Assume you are a data scientist for the Fortune 500 companies. You areasked to research the question whether the CEO ages of UK are on average older than the CEO ages of Americans. you take a random sample of 40 CEO ages from America and UK and the data is as follows:**\n",
    "\n",
    "UK = [47, 49, 73, 50, 65, 70, 49, 47, 40, 43, 46, 35, 38, 40, 47, 39, 49, 37, 37, 36, 40, 37, 31, 48, 48, 45, 52, 38, 38, 36, 44, 40, 48, 45, 45, 36, 39, 44, 52, 47]\n",
    "\n",
    "USA = [47, 57, 52, 47, 48, 56, 56, 52, 50, 40, 46, 43, 44, 51, 36, 42, 49, 49, 40, 43, 39, 39, 22, 41, 45, 46, 39, 32, 36, 32, 32, 32, 37, 33, 44, 49, 44, 44, 49, 32]\n",
    "\n",
    "1. What are your hypotheses?\n",
    "2. What significance level will you use?\n",
    "3. What statistical test will you use?\n",
    "4. What are the test results? (Assume s1 = 8.8 and s2 = 7.8.)\n",
    "5. What is your decision?\n",
    "6. What can you conclude?\n",
    "7. Do you feel that using the data given really answers the original question asked?\n",
    "8. What other data might be used to answer the question?"
   ]
  },
  {
   "cell_type": "code",
   "execution_count": 25,
   "id": "91d7ab4c",
   "metadata": {},
   "outputs": [],
   "source": [
    "# Define samples\n",
    "uk_ceo_ages = [47, 49, 73, 50, 65, 70, 49, 47, 40, 43, 46, 35, 38, 40, 47, 39, 49, 37, 37, 36, \n",
    "               40, 37, 31, 48, 48, 45, 52, 38, 38, 36, 44, 40, 48, 45, 45, 36, 39, 44, 52, 47]\n",
    "\n",
    "usa_ceo_ages = [47, 57, 52, 47, 48, 56, 56, 52, 50, 40, 46, 43, 44, 51, 36, 42, 49, 49, 40, 43,\n",
    "                39, 39, 22, 41, 45, 46, 39, 32, 36, 32, 32, 32, 37, 33, 44, 49, 44, 44, 49, 32]"
   ]
  },
  {
   "cell_type": "markdown",
   "id": "5e7e2066",
   "metadata": {},
   "source": [
    "#### a. What are your hypotheses?"
   ]
  },
  {
   "cell_type": "markdown",
   "id": "cf4f82d7",
   "metadata": {},
   "source": [
    "Null Hypothesis (H0): The average CEO age of UK is the same or below to the average CEO age of Americans.\n",
    "\n",
    "Alternative Hypothesis (H1): The average CEO age of UK is older than the average CEO age of Americans."
   ]
  },
  {
   "cell_type": "markdown",
   "id": "c10bf02e",
   "metadata": {},
   "source": [
    "#### b. What significance level will you use?"
   ]
  },
  {
   "cell_type": "markdown",
   "id": "da6c85e8",
   "metadata": {},
   "source": [
    "A common significance level often used is α=0.05 (5%)."
   ]
  },
  {
   "cell_type": "markdown",
   "id": "351b65e4",
   "metadata": {},
   "source": [
    "#### c. What statistical test will you use?"
   ]
  },
  {
   "cell_type": "markdown",
   "id": "ff8e1176",
   "metadata": {},
   "source": [
    "Since we are comparing the means of two independent samples and sample sizes are greater than 30, we can use the two-sample Z-test for comparing means."
   ]
  },
  {
   "cell_type": "markdown",
   "id": "163cb218",
   "metadata": {},
   "source": [
    "#### d. What are the test results? (Assume s1 = 8.8 and s2= 7.8.)"
   ]
  },
  {
   "cell_type": "code",
   "execution_count": 26,
   "id": "4f0fe849",
   "metadata": {},
   "outputs": [
    {
     "name": "stdout",
     "output_type": "stream",
     "text": [
      "Test Statistic (Z-score): 1.0084435261263631\n",
      "P-value: 0.15662079312042615\n"
     ]
    }
   ],
   "source": [
    "n_uk = len(uk_ceo_ages) # Sample size of UK CEOs\n",
    "n_usa = len(usa_ceo_ages) # Sample size of USA CEOs\n",
    "mean_uk = np.mean(uk_ceo_ages) # Mean age of UK CEO\n",
    "mean_usa = np.mean(usa_ceo_ages) # Mean age of USA CEO\n",
    "std_dev_uk = 8.8  # Population Standard deviation of UK CEOs\n",
    "std_dev_usa = 7.8  # Population Standard deviation of USA CEOs\n",
    "\n",
    "# Calculate the test statistic\n",
    "z_score = (mean_uk - mean_usa) / np.sqrt((std_dev_uk**2 / n_uk) + (std_dev_usa**2 / n_usa))\n",
    "p_value = stats.norm.sf(abs(z_score))\n",
    "\n",
    "# Print the test results\n",
    "print(\"Test Statistic (Z-score):\", z_score)\n",
    "print(\"P-value:\",p_value)"
   ]
  },
  {
   "cell_type": "markdown",
   "id": "dbec4431",
   "metadata": {},
   "source": [
    "#### e. What is your decision?"
   ]
  },
  {
   "cell_type": "markdown",
   "id": "968a7a88",
   "metadata": {},
   "source": [
    "* Since the P-value (0.15) is above the significance level (0.05), we fail to reject null hypothesis.\n",
    "* Hence the research claim can be rejected with 95% confidence. "
   ]
  },
  {
   "cell_type": "markdown",
   "id": "a4d48c14",
   "metadata": {},
   "source": [
    "#### f. What can you conclude?"
   ]
  },
  {
   "cell_type": "markdown",
   "id": "0f74ae16",
   "metadata": {},
   "source": [
    "The data does not provide sufficient evidence to support the claim that the average CEO age in the UK is older than the average CEO age in the USA. The decision to \"fail to reject the null hypothesis\" indicates that, based on the provided sample data and the given standard deviations, we do not have strong statistical support for the alternative hypothesis that the UK CEOs are, on average, older than American CEOs."
   ]
  },
  {
   "cell_type": "markdown",
   "id": "a89d9e39",
   "metadata": {},
   "source": [
    "#### g. Do you feel that using the data given really answers the original question asked."
   ]
  },
  {
   "cell_type": "markdown",
   "id": "5b05ec49",
   "metadata": {},
   "source": [
    "Using the given data, the analysis does provide some initial insight into the comparison of CEO ages between the UK and the USA. However, due to factors such as sample size, assumptions, standard deviations, variability, and potential influence of other factors, the analysis might not definitively answer the original question about whether UK CEO ages are on average older than American CEO ages. Further data, a larger sample, and a more comprehensive analysis are needed for a more conclusive answer."
   ]
  },
  {
   "cell_type": "markdown",
   "id": "96eb01c8",
   "metadata": {},
   "source": [
    "#### h. What other data might be used to answer the question?"
   ]
  },
  {
   "cell_type": "markdown",
   "id": "0b538999",
   "metadata": {},
   "source": [
    "To answer the question thoroughly, additional data that might be useful could include a larger sample size of CEO ages from both countries, as well as information on the industries and sizes of the companies included in the sample. It might also be helpful to have data on the education, experience, and career paths of the CEOs in the sample, as these factors could influence the age at which a person becomes a CEO. Additionally, historical data on CEO ages in both countries could provide context and help to identify trends over time."
   ]
  },
  {
   "cell_type": "markdown",
   "id": "6bc24d44",
   "metadata": {},
   "source": [
    "<table align=\"center\" width=100%>\n",
    "    <tr>\n",
    "        <td>\n",
    "            <div align=\"left\">\n",
    "                <font color=\"#21619\" size=4.8px>                   \n",
    "                    <b>  Conclusion \n",
    "                    </b>\n",
    "                </font>\n",
    "            </div>\n",
    "        </td>\n",
    "    </tr>\n",
    "</table>\n",
    "\n",
    "In this comprehensive statistical project, we thoroughly examined CEO age data from top Fortune 500 companies. By applying a spectrum of statistical concepts, we computed key measures like mean, median, and mode, and assessed skewness. Our analysis extended to constructing distributions, drawing confidence intervals, and conducting hypothesis tests for CEO age proportions.  This project underscores the vital role of statistical methods in deriving valuable insights from real-world data, enabling informed decision-making in complex scenarios."
   ]
  }
 ],
 "metadata": {
  "kernelspec": {
   "display_name": "Python 3 (ipykernel)",
   "language": "python",
   "name": "python3"
  },
  "language_info": {
   "codemirror_mode": {
    "name": "ipython",
    "version": 3
   },
   "file_extension": ".py",
   "mimetype": "text/x-python",
   "name": "python",
   "nbconvert_exporter": "python",
   "pygments_lexer": "ipython3",
   "version": "3.9.12"
  }
 },
 "nbformat": 4,
 "nbformat_minor": 5
}
